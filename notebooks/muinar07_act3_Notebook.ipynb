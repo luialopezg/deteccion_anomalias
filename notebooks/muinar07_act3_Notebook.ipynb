{
 "cells": [
  {
   "cell_type": "markdown",
   "id": "2179f2d5-3c52-40ef-89a6-a6bf3b667b67",
   "metadata": {},
   "source": [
    "![image-2.png](attachment:image-2.png)\n",
    "_Aprendizaje Automático_\n",
    "\n",
    "_Máster Universitario en Inteligencia Artificial_\n",
    "\n",
    "# Actividad grupal: Explorando patrones ocultos: Detección de Anomalías en datos\n",
    "## Objetivos\n",
    "\n",
    "Mediante este trabajo se pretende que ponga en práctica la aplicación de las técnicas de detección de anomalías. El objetivo es analizar si existen anomalías en el conjunto de datos aplicando técnicas univariantes y multivariantes. Debe detallar los pasos que hay que realizar para detección de valores inusuales.\n",
    "\n",
    "- \tEntender los métodos media móvil, z-score, Isolation Forest y Local Outlier Factor\n",
    "-\tImplementar el código para cada una de estas técnicas y analizar si existen o no anomalía\n",
    "-   Investigar sobre una técnica de detección de anomalías con un caso de uso concreto.\n",
    "\n",
    "Descripción de la actividad\n",
    "\n",
    "Debes realizar la actividad en el Notebook adjunto. Debes ir completando el código solicitado, así como responder a las preguntas que se van realizando.\n",
    "\n",
    "Tareas que debe realizar\n",
    "- Detección de anomalías.\n",
    "- Debes completar el código pedido en este notebook y contestar las preguntas finales.\n",
    "- Buscar dos artículos científicos (https://scholar.google.es/) con un caso de uso de detección de anomalías. Los artículos deben estar en revistas científicas, y deben ser posteriores a 2015. No debe utilizar técnicas de Deep- Learning.Para cada artículo debe indicar:\n",
    "    * Objetivo: cuál es el objetivo de la investigación, es decir a qué problema real está aplicando la detección anomalías.\n",
    "    * Técnicas de detección de anomas empleadas.\n",
    "    * Principales resultados de la aplicación y de la investigación.\n"
   ]
  },
  {
   "cell_type": "markdown",
   "id": "d6b223cc-37ea-4c71-83b1-3d14f08c2814",
   "metadata": {},
   "source": [
    "#### Integrantes del grupo"
   ]
  },
  {
   "cell_type": "code",
   "execution_count": 2,
   "id": "b551b017-af3e-4f8a-84fd-128fda892f3b",
   "metadata": {},
   "outputs": [],
   "source": [
    "# Coloca en este espacio el nombre de los integrantes del grupo\n",
    "# Luis Alberto López Gonźalez"
   ]
  },
  {
   "cell_type": "markdown",
   "id": "c02a78f7-cd2f-4fde-91c2-4c5a1ac1355c",
   "metadata": {},
   "source": [
    "## Detección de anomalías"
   ]
  },
  {
   "cell_type": "markdown",
   "id": "a202a2c2-eb39-4beb-b555-de0cd9a6af2b",
   "metadata": {},
   "source": [
    "Los transformadores juegan un papel muy importante en el sistema eléctrico. Aunque son algunos de los componentes más confiables de la red eléctrica, también son propensos a fallar debido a muchos factores, tanto internos como externos. Podría haber muchos iniciadores que causen una falla en el transformador, pero los que potencialmente pueden conducir a una falla catastrófica son los siguientes:\n",
    "Falla mecánica\n",
    "Falla dieléctrica\n",
    "\n",
    "Contenido\n",
    "Estos datos se recopilaron a través de dispositivos IoT desde el 25 de junio de 2019 hasta el 14 de abril de 2020 y se actualizaron cada 15 minutos.\n",
    "El dataset contiene 19352 registros.\n",
    "Descripción de los parámetros:\n",
    "Voltaje de corriente:\n",
    "1. VL1- Fase Línea 1\n",
    "2. VL2- Fase Línea 2\n",
    "3. VL3- Fase Línea 3\n",
    "4. IL1- Línea actual 1\n",
    "5. IL2- Línea actual 2\n",
    "6. IL3- Línea actual 3\n",
    "7. VL12- Línea de tensión 1 2\n",
    "8. VL23- Línea de tensión 2 3\n",
    "9. VL31- Línea de tensión 3 1\n",
    "10. INUT-Corriente neutra"
   ]
  },
  {
   "cell_type": "code",
   "execution_count": 2,
   "id": "5bff89b9-c58c-4cbc-bf0e-9c8737a5065a",
   "metadata": {},
   "outputs": [
    {
     "name": "stdout",
     "output_type": "stream",
     "text": [
      "    DeviceTimeStamp    VL1    VL2    VL3  IL1  IL2  IL3  VL12  VL23  VL31  \\\n",
      "0  2019-06-25T13:06    0.0    0.0    0.0  0.0  0.0  0.0   0.0   0.0   0.0   \n",
      "1  2019-06-27T10:49  238.7  238.7  238.8  0.0  0.0  0.0   0.0   0.0   0.0   \n",
      "2  2019-06-27T10:51  238.4  238.5  238.5  0.0  0.0  0.0   0.0   0.0   0.0   \n",
      "3  2019-06-27T10:52  239.9  240.0  240.0  0.0  0.0  0.0   0.0   0.0   0.0   \n",
      "4  2019-06-27T10:52  239.9  240.0  240.0  0.0  0.0  0.0   0.0   0.0   0.0   \n",
      "\n",
      "   INUT  \n",
      "0   0.0  \n",
      "1   0.0  \n",
      "2   0.0  \n",
      "3   0.0  \n",
      "4   0.0  \n"
     ]
    }
   ],
   "source": [
    "import numpy as np\n",
    "import pandas as pd\n",
    "from matplotlib import pyplot as plt\n",
    "import seaborn as sns\n",
    "\n",
    "# se carga el dataset, con separados ;, se transforman las dos columnas Date y Time a una única columna con tipo datetime\n",
    "# en el fichero CSV existen NaN identificados por ?\n",
    "df = pd.read_csv('../data/raw/CurrentVoltage.csv', sep=',') \n",
    "\n",
    "# Verificar la carga de datos\n",
    "print(df.head())\n"
   ]
  },
  {
   "cell_type": "markdown",
   "id": "91ffa6f1-8f62-472b-a2ba-64f8920e242c",
   "metadata": {},
   "source": [
    "#### ¿Cuántas instancias tiene el dataset?"
   ]
  },
  {
   "cell_type": "code",
   "execution_count": null,
   "id": "7129db1e-2001-472d-9189-f93acf057742",
   "metadata": {},
   "outputs": [
    {
     "name": "stdout",
     "output_type": "stream",
     "text": [
      "Número de instancias y número de atributos\n",
      "(19352, 11)\n"
     ]
    }
   ],
   "source": [
    "# Pon aquí tu código\n",
    "print(\"Número de instancias y número de atributos\")\n",
    "print(df.shape)"
   ]
  },
  {
   "cell_type": "markdown",
   "id": "d70b584a-b90d-405d-ae54-6938b787f767",
   "metadata": {},
   "source": [
    "#### ¿Cuál es el tipo de datos predominante en las variables?"
   ]
  },
  {
   "cell_type": "code",
   "execution_count": null,
   "id": "a651d2ca-30be-4ecb-aa38-a13b15f3841a",
   "metadata": {},
   "outputs": [
    {
     "name": "stdout",
     "output_type": "stream",
     "text": [
      "Tipo de datos de las columnas\n",
      "DeviceTimeStamp     object\n",
      "VL1                float64\n",
      "VL2                float64\n",
      "VL3                float64\n",
      "IL1                float64\n",
      "IL2                float64\n",
      "IL3                float64\n",
      "VL12               float64\n",
      "VL23               float64\n",
      "VL31               float64\n",
      "INUT               float64\n",
      "dtype: object\n"
     ]
    }
   ],
   "source": [
    "#Inserta acá el código\n",
    "print(\"Tipo de datos predominantes en las columnas\")\n",
    "print(df.dtypes)"
   ]
  },
  {
   "cell_type": "markdown",
   "id": "3c0ddc73",
   "metadata": {},
   "source": [
    "El tipo predominante en las variables es 'float64'\n"
   ]
  },
  {
   "cell_type": "markdown",
   "id": "e5fa0b4f-202a-40f5-a964-62926d0888a3",
   "metadata": {},
   "source": [
    "## Variables nulas"
   ]
  },
  {
   "cell_type": "markdown",
   "id": "c1013d5b-a8dd-4e10-af4f-118512a663ce",
   "metadata": {},
   "source": [
    "#### ¿Tiene este dataset datos faltantes?"
   ]
  },
  {
   "cell_type": "markdown",
   "id": "5d43e9e5-0dd4-480a-a4e9-e5ab50f212ec",
   "metadata": {},
   "source": [
    "¿Tiene este dataset datos faltantes?"
   ]
  },
  {
   "cell_type": "code",
   "execution_count": 5,
   "id": "7595168d",
   "metadata": {},
   "outputs": [
    {
     "name": "stdout",
     "output_type": "stream",
     "text": [
      "Datos faltantes por columna\n",
      "DeviceTimeStamp    0\n",
      "VL1                0\n",
      "VL2                0\n",
      "VL3                0\n",
      "IL1                0\n",
      "IL2                0\n",
      "IL3                0\n",
      "VL12               0\n",
      "VL23               0\n",
      "VL31               0\n",
      "INUT               0\n",
      "dtype: int64\n"
     ]
    }
   ],
   "source": [
    "# Identificación de datos faltantes\n",
    "print(\"Datos faltantes por columna\")\n",
    "print(df.isnull().sum())\n"
   ]
  },
  {
   "cell_type": "markdown",
   "id": "c5d6992a-e4e5-4b4b-86f1-7a8e5bf30094",
   "metadata": {},
   "source": [
    "#### ¿Es necesario hacer algún tratamiendo adicional sobre los datos?"
   ]
  },
  {
   "cell_type": "code",
   "execution_count": 55,
   "id": "eebad195-e0c2-4c59-8183-0ab6be8aec93",
   "metadata": {},
   "outputs": [],
   "source": [
    "### PON AQUÍ TU CÓDIGO EN CASO DE QUE SEA NECESARIO HACER ALGÚN TRATAMIENTO ADICIONAL"
   ]
  },
  {
   "cell_type": "code",
   "execution_count": 6,
   "id": "4a266304",
   "metadata": {},
   "outputs": [
    {
     "name": "stdout",
     "output_type": "stream",
     "text": [
      "DeviceTimeStamp    datetime64[ns]\n",
      "VL1                       float64\n",
      "VL2                       float64\n",
      "VL3                       float64\n",
      "IL1                       float64\n",
      "IL2                       float64\n",
      "IL3                       float64\n",
      "VL12                      float64\n",
      "VL23                      float64\n",
      "VL31                      float64\n",
      "INUT                      float64\n",
      "dtype: object\n"
     ]
    }
   ],
   "source": [
    "# Convertir DeviceTimeStamp a datetime\n",
    "df[\"DeviceTimeStamp\"] = pd.to_datetime(df[\"DeviceTimeStamp\"])\n",
    "\n",
    "# Confirmar tipos de datos\n",
    "print(df.dtypes)\n",
    "\n"
   ]
  },
  {
   "cell_type": "code",
   "execution_count": 7,
   "id": "843331c8",
   "metadata": {},
   "outputs": [
    {
     "name": "stdout",
     "output_type": "stream",
     "text": [
      "Duplicados antes: 32\n",
      "Duplicados después: 0\n"
     ]
    }
   ],
   "source": [
    "# Verificar y eliminar duplicados\n",
    "print(f\"Duplicados antes: {df.duplicated().sum()}\")\n",
    "df.drop_duplicates(inplace=True)\n",
    "print(f\"Duplicados después: {df.duplicated().sum()}\")\n",
    "\n"
   ]
  },
  {
   "cell_type": "code",
   "execution_count": 8,
   "id": "e98e91c6",
   "metadata": {},
   "outputs": [],
   "source": [
    "import numpy as np\n",
    "\n",
    "# Definir umbrales de corte (percentiles)\n",
    "for col in df.select_dtypes(include=[\"float64\"]).columns:\n",
    "    low, high = df[col].quantile([0.01, 0.99])\n",
    "    df[col] = np.clip(df[col], low, high)\n",
    "\n"
   ]
  },
  {
   "cell_type": "code",
   "execution_count": 9,
   "id": "af54ba24",
   "metadata": {},
   "outputs": [],
   "source": [
    "from sklearn.preprocessing import StandardScaler\n",
    "\n",
    "# Escalar columnas numéricas\n",
    "scaler = StandardScaler()\n",
    "num_cols = df.select_dtypes(include=[\"float64\"]).columns\n",
    "df[num_cols] = scaler.fit_transform(df[num_cols])\n",
    "\n"
   ]
  },
  {
   "cell_type": "code",
   "execution_count": 10,
   "id": "22252300",
   "metadata": {},
   "outputs": [],
   "source": [
    "# Creación de variables adicionales\n",
    "# Crear variable de diferencia temporal\n",
    "df[\"time_diff\"] = df[\"DeviceTimeStamp\"].diff().dt.total_seconds()\n",
    "\n",
    "# Crear variables agregadas por hora\n",
    "df[\"hour\"] = df[\"DeviceTimeStamp\"].dt.hour\n",
    "\n"
   ]
  },
  {
   "cell_type": "code",
   "execution_count": 12,
   "id": "b9457cdc",
   "metadata": {},
   "outputs": [
    {
     "name": "stdout",
     "output_type": "stream",
     "text": [
      "      DeviceTimeStamp       VL1       VL2       VL3       IL1       IL2  \\\n",
      "0 2019-06-25 13:06:00 -2.458741 -2.454606 -2.573555 -1.807223 -1.472833   \n",
      "1 2019-06-27 10:49:00 -0.289935 -0.232612 -0.154324 -1.807223 -1.472833   \n",
      "2 2019-06-27 10:51:00 -0.324915 -0.256504 -0.192523 -1.807223 -1.472833   \n",
      "3 2019-06-27 10:52:00 -0.150012 -0.077311 -0.001531 -1.807223 -1.472833   \n",
      "5 2019-06-27 10:53:00 -0.010089  0.066044  0.151263 -1.807223 -1.472833   \n",
      "\n",
      "        IL3      VL12      VL23      VL31      INUT  time_diff  hour  \n",
      "0 -1.927038 -3.192624 -3.199311 -3.193824 -1.773258        NaN    13  \n",
      "1 -1.927038 -3.192624 -3.199311 -3.193824 -1.773258   164580.0    10  \n",
      "2 -1.927038 -3.192624 -3.199311 -3.193824 -1.773258      120.0    10  \n",
      "3 -1.927038 -3.192624 -3.199311 -3.193824 -1.773258       60.0    10  \n",
      "5 -1.927038 -3.192624 -3.199311 -3.193824 -1.773258       60.0    10  \n"
     ]
    },
    {
     "data": {
      "text/html": [
       "<div>\n",
       "<style scoped>\n",
       "    .dataframe tbody tr th:only-of-type {\n",
       "        vertical-align: middle;\n",
       "    }\n",
       "\n",
       "    .dataframe tbody tr th {\n",
       "        vertical-align: top;\n",
       "    }\n",
       "\n",
       "    .dataframe thead th {\n",
       "        text-align: right;\n",
       "    }\n",
       "</style>\n",
       "<table border=\"1\" class=\"dataframe\">\n",
       "  <thead>\n",
       "    <tr style=\"text-align: right;\">\n",
       "      <th></th>\n",
       "      <th>DeviceTimeStamp</th>\n",
       "      <th>VL1</th>\n",
       "      <th>VL2</th>\n",
       "      <th>VL3</th>\n",
       "      <th>IL1</th>\n",
       "      <th>IL2</th>\n",
       "      <th>IL3</th>\n",
       "      <th>VL12</th>\n",
       "      <th>VL23</th>\n",
       "      <th>VL31</th>\n",
       "      <th>INUT</th>\n",
       "      <th>time_diff</th>\n",
       "      <th>hour</th>\n",
       "    </tr>\n",
       "  </thead>\n",
       "  <tbody>\n",
       "    <tr>\n",
       "      <th>count</th>\n",
       "      <td>19320</td>\n",
       "      <td>1.932000e+04</td>\n",
       "      <td>1.932000e+04</td>\n",
       "      <td>1.932000e+04</td>\n",
       "      <td>1.932000e+04</td>\n",
       "      <td>1.932000e+04</td>\n",
       "      <td>1.932000e+04</td>\n",
       "      <td>1.932000e+04</td>\n",
       "      <td>1.932000e+04</td>\n",
       "      <td>1.932000e+04</td>\n",
       "      <td>1.932000e+04</td>\n",
       "      <td>1.931900e+04</td>\n",
       "      <td>19320.000000</td>\n",
       "    </tr>\n",
       "    <tr>\n",
       "      <th>mean</th>\n",
       "      <td>2019-11-06 15:41:14.388198656</td>\n",
       "      <td>9.415059e-16</td>\n",
       "      <td>2.212539e-15</td>\n",
       "      <td>-3.718948e-15</td>\n",
       "      <td>-1.588791e-16</td>\n",
       "      <td>3.530647e-17</td>\n",
       "      <td>-1.471103e-16</td>\n",
       "      <td>3.530647e-16</td>\n",
       "      <td>-1.176882e-16</td>\n",
       "      <td>-4.707530e-17</td>\n",
       "      <td>-5.884412e-17</td>\n",
       "      <td>1.312503e+03</td>\n",
       "      <td>11.810559</td>\n",
       "    </tr>\n",
       "    <tr>\n",
       "      <th>min</th>\n",
       "      <td>2019-06-25 13:06:00</td>\n",
       "      <td>-2.458741e+00</td>\n",
       "      <td>-2.454606e+00</td>\n",
       "      <td>-2.573555e+00</td>\n",
       "      <td>-1.807223e+00</td>\n",
       "      <td>-1.472833e+00</td>\n",
       "      <td>-1.927038e+00</td>\n",
       "      <td>-3.192624e+00</td>\n",
       "      <td>-3.199311e+00</td>\n",
       "      <td>-3.193824e+00</td>\n",
       "      <td>-1.773258e+00</td>\n",
       "      <td>0.000000e+00</td>\n",
       "      <td>0.000000</td>\n",
       "    </tr>\n",
       "    <tr>\n",
       "      <th>25%</th>\n",
       "      <td>2019-08-22 06:56:15</td>\n",
       "      <td>-6.747230e-01</td>\n",
       "      <td>-6.626751e-01</td>\n",
       "      <td>-6.254377e-01</td>\n",
       "      <td>-6.569421e-01</td>\n",
       "      <td>-6.831060e-01</td>\n",
       "      <td>-6.213490e-01</td>\n",
       "      <td>1.739656e-01</td>\n",
       "      <td>1.878559e-01</td>\n",
       "      <td>1.797203e-01</td>\n",
       "      <td>-6.329412e-01</td>\n",
       "      <td>9.000000e+02</td>\n",
       "      <td>6.000000</td>\n",
       "    </tr>\n",
       "    <tr>\n",
       "      <th>50%</th>\n",
       "      <td>2019-10-27 17:52:30</td>\n",
       "      <td>1.764754e-01</td>\n",
       "      <td>1.735595e-01</td>\n",
       "      <td>1.385297e-01</td>\n",
       "      <td>-1.001963e-01</td>\n",
       "      <td>-2.182665e-01</td>\n",
       "      <td>-6.805161e-02</td>\n",
       "      <td>3.167600e-01</td>\n",
       "      <td>3.135878e-01</td>\n",
       "      <td>3.139907e-01</td>\n",
       "      <td>-4.591439e-02</td>\n",
       "      <td>9.000000e+02</td>\n",
       "      <td>12.000000</td>\n",
       "    </tr>\n",
       "    <tr>\n",
       "      <th>75%</th>\n",
       "      <td>2020-01-29 18:18:45</td>\n",
       "      <td>7.361674e-01</td>\n",
       "      <td>7.230850e-01</td>\n",
       "      <td>6.733070e-01</td>\n",
       "      <td>6.478541e-01</td>\n",
       "      <td>5.914538e-01</td>\n",
       "      <td>7.126996e-01</td>\n",
       "      <td>3.982369e-01</td>\n",
       "      <td>3.895332e-01</td>\n",
       "      <td>3.945530e-01</td>\n",
       "      <td>6.423240e-01</td>\n",
       "      <td>9.000000e+02</td>\n",
       "      <td>17.000000</td>\n",
       "    </tr>\n",
       "    <tr>\n",
       "      <th>max</th>\n",
       "      <td>2020-04-14 00:30:00</td>\n",
       "      <td>1.762270e+00</td>\n",
       "      <td>1.774351e+00</td>\n",
       "      <td>1.895655e+00</td>\n",
       "      <td>2.486390e+00</td>\n",
       "      <td>2.712746e+00</td>\n",
       "      <td>2.281726e+00</td>\n",
       "      <td>5.267519e-01</td>\n",
       "      <td>5.184801e-01</td>\n",
       "      <td>5.237882e-01</td>\n",
       "      <td>2.597798e+00</td>\n",
       "      <td>2.903940e+06</td>\n",
       "      <td>23.000000</td>\n",
       "    </tr>\n",
       "    <tr>\n",
       "      <th>std</th>\n",
       "      <td>NaN</td>\n",
       "      <td>1.000026e+00</td>\n",
       "      <td>1.000026e+00</td>\n",
       "      <td>1.000026e+00</td>\n",
       "      <td>1.000026e+00</td>\n",
       "      <td>1.000026e+00</td>\n",
       "      <td>1.000026e+00</td>\n",
       "      <td>1.000026e+00</td>\n",
       "      <td>1.000026e+00</td>\n",
       "      <td>1.000026e+00</td>\n",
       "      <td>1.000026e+00</td>\n",
       "      <td>2.454964e+04</td>\n",
       "      <td>6.703193</td>\n",
       "    </tr>\n",
       "  </tbody>\n",
       "</table>\n",
       "</div>"
      ],
      "text/plain": [
       "                     DeviceTimeStamp           VL1           VL2  \\\n",
       "count                          19320  1.932000e+04  1.932000e+04   \n",
       "mean   2019-11-06 15:41:14.388198656  9.415059e-16  2.212539e-15   \n",
       "min              2019-06-25 13:06:00 -2.458741e+00 -2.454606e+00   \n",
       "25%              2019-08-22 06:56:15 -6.747230e-01 -6.626751e-01   \n",
       "50%              2019-10-27 17:52:30  1.764754e-01  1.735595e-01   \n",
       "75%              2020-01-29 18:18:45  7.361674e-01  7.230850e-01   \n",
       "max              2020-04-14 00:30:00  1.762270e+00  1.774351e+00   \n",
       "std                              NaN  1.000026e+00  1.000026e+00   \n",
       "\n",
       "                VL3           IL1           IL2           IL3          VL12  \\\n",
       "count  1.932000e+04  1.932000e+04  1.932000e+04  1.932000e+04  1.932000e+04   \n",
       "mean  -3.718948e-15 -1.588791e-16  3.530647e-17 -1.471103e-16  3.530647e-16   \n",
       "min   -2.573555e+00 -1.807223e+00 -1.472833e+00 -1.927038e+00 -3.192624e+00   \n",
       "25%   -6.254377e-01 -6.569421e-01 -6.831060e-01 -6.213490e-01  1.739656e-01   \n",
       "50%    1.385297e-01 -1.001963e-01 -2.182665e-01 -6.805161e-02  3.167600e-01   \n",
       "75%    6.733070e-01  6.478541e-01  5.914538e-01  7.126996e-01  3.982369e-01   \n",
       "max    1.895655e+00  2.486390e+00  2.712746e+00  2.281726e+00  5.267519e-01   \n",
       "std    1.000026e+00  1.000026e+00  1.000026e+00  1.000026e+00  1.000026e+00   \n",
       "\n",
       "               VL23          VL31          INUT     time_diff          hour  \n",
       "count  1.932000e+04  1.932000e+04  1.932000e+04  1.931900e+04  19320.000000  \n",
       "mean  -1.176882e-16 -4.707530e-17 -5.884412e-17  1.312503e+03     11.810559  \n",
       "min   -3.199311e+00 -3.193824e+00 -1.773258e+00  0.000000e+00      0.000000  \n",
       "25%    1.878559e-01  1.797203e-01 -6.329412e-01  9.000000e+02      6.000000  \n",
       "50%    3.135878e-01  3.139907e-01 -4.591439e-02  9.000000e+02     12.000000  \n",
       "75%    3.895332e-01  3.945530e-01  6.423240e-01  9.000000e+02     17.000000  \n",
       "max    5.184801e-01  5.237882e-01  2.597798e+00  2.903940e+06     23.000000  \n",
       "std    1.000026e+00  1.000026e+00  1.000026e+00  2.454964e+04      6.703193  "
      ]
     },
     "execution_count": 12,
     "metadata": {},
     "output_type": "execute_result"
    }
   ],
   "source": [
    "print(df.head())\n",
    "df.describe()\n"
   ]
  },
  {
   "cell_type": "markdown",
   "id": "0a48f5cc-253e-452e-9db5-6681646396dd",
   "metadata": {},
   "source": [
    "#### Media móvil"
   ]
  },
  {
   "cell_type": "code",
   "execution_count": 70,
   "id": "c563ce6a-146d-4d76-b5a8-85d55dc82068",
   "metadata": {},
   "outputs": [],
   "source": [
    "# Vamos a aplicar la técnica de detección de anomalías de Media Móvil sobre la variable INUT"
   ]
  },
  {
   "cell_type": "code",
   "execution_count": 3,
   "id": "a16f69d9-88ec-49d7-a9b4-3ea35339ce22",
   "metadata": {},
   "outputs": [],
   "source": [
    "# Calcula la media móvil"
   ]
  },
  {
   "cell_type": "code",
   "execution_count": 4,
   "id": "0eb092d3-3938-4a75-ab67-53abb99d31de",
   "metadata": {},
   "outputs": [],
   "source": [
    "# Define un umbral para detectar anomalías"
   ]
  },
  {
   "cell_type": "code",
   "execution_count": null,
   "id": "5a6bc824-5302-4319-ac8c-0c8feeeabd5b",
   "metadata": {},
   "outputs": [],
   "source": [
    "# Visualiza los resultados"
   ]
  },
  {
   "cell_type": "markdown",
   "id": "5af89577-3a38-4f3a-907f-7e2020d4a16a",
   "metadata": {},
   "source": [
    "#### Z-Score"
   ]
  },
  {
   "cell_type": "code",
   "execution_count": 68,
   "id": "0232dcd2-7b81-40c5-82ee-4996f6912e26",
   "metadata": {},
   "outputs": [],
   "source": [
    "# Vamos a aplicar la técnica de detección de anomalías Z-Score\n",
    "# Pon aquí tu código"
   ]
  },
  {
   "cell_type": "code",
   "execution_count": null,
   "id": "b6f5f71a-e869-435e-9d67-f8d795abd627",
   "metadata": {},
   "outputs": [],
   "source": [
    "# Define un umbral para detectar anomalías (por ejemplo, 3 desviaciones estándar)"
   ]
  },
  {
   "cell_type": "code",
   "execution_count": null,
   "id": "fe706737-aa74-4d81-9960-e9b10e4f7288",
   "metadata": {},
   "outputs": [],
   "source": [
    "# Visualiza los resultados"
   ]
  },
  {
   "cell_type": "markdown",
   "id": "5d26ba45-324a-4cf0-93dd-b407fc476af6",
   "metadata": {},
   "source": [
    "#### Isolation Forest"
   ]
  },
  {
   "cell_type": "code",
   "execution_count": 57,
   "id": "c437e831-2bc5-4119-b448-9ee9130b77ab",
   "metadata": {},
   "outputs": [],
   "source": [
    "# Vamos a aplicar la técnica de detección de anomalías de Isolation Forest, configura el parámetro contamination en 5%\n",
    "# Pon aquí tu código"
   ]
  },
  {
   "cell_type": "code",
   "execution_count": 71,
   "id": "590a0463-1d90-4245-a95e-0e89c877d13e",
   "metadata": {},
   "outputs": [],
   "source": [
    "# Agrega las columnas de puntaje y si es dato anómalo o no en el dataframe"
   ]
  },
  {
   "cell_type": "code",
   "execution_count": 72,
   "id": "7e7b3916-b649-4b10-849f-562ba86cc1dd",
   "metadata": {},
   "outputs": [],
   "source": [
    "# Crea un gráfico de barras para mostrar los datos anómalos vs los datos normales"
   ]
  },
  {
   "cell_type": "code",
   "execution_count": 73,
   "id": "7acf8c86-4713-4177-b6dc-fed9e205d705",
   "metadata": {},
   "outputs": [],
   "source": [
    "# Crea un gráfico donde se puedan ver los datos anómalos sobre la variable INUT."
   ]
  },
  {
   "cell_type": "code",
   "execution_count": 74,
   "id": "6c531890-3581-466c-b3fd-1ea7f4bfb1b0",
   "metadata": {},
   "outputs": [],
   "source": [
    "# Repite los pasos anteriores con el parámetro de contamination en 1%"
   ]
  },
  {
   "cell_type": "markdown",
   "id": "2e2153da-3c75-46bf-a699-86d410a21858",
   "metadata": {},
   "source": [
    "## Local Outlier Factor"
   ]
  },
  {
   "cell_type": "code",
   "execution_count": 78,
   "id": "1c8b9bea-60ca-49e5-9fc2-d9057943e1e5",
   "metadata": {},
   "outputs": [],
   "source": [
    "# Vamos a aplicar la técnica de detección de anomalías de Local Outlier Factor\n",
    "# Pon aquí tu código"
   ]
  },
  {
   "cell_type": "code",
   "execution_count": 79,
   "id": "6d41e24b-70c2-47cf-b396-047098d08647",
   "metadata": {},
   "outputs": [],
   "source": [
    "# Crea un gráfico de barras para mostrar los datos anómalos vs los datos normales"
   ]
  },
  {
   "cell_type": "code",
   "execution_count": 80,
   "id": "a3e6e2e2-b6e1-4477-855c-3aa7dc24bcf3",
   "metadata": {},
   "outputs": [],
   "source": [
    "# Crea un gráfico donde se puedan ver los datos anómalos sobre la variable INUT."
   ]
  },
  {
   "cell_type": "markdown",
   "id": "1e29d46f-8f02-4c6a-8e68-d76fd5f82997",
   "metadata": {},
   "source": [
    "## Análisis"
   ]
  },
  {
   "cell_type": "code",
   "execution_count": 81,
   "id": "a67e8709-7e03-4c5a-9b09-b96b0e9310b4",
   "metadata": {},
   "outputs": [],
   "source": [
    "# Realiza un análisis detallado de los resultados obtenidos en cada una de las técnicas aplicadas. Utiliza gráficos o trablas para apoyar tu conclusiones"
   ]
  },
  {
   "cell_type": "markdown",
   "id": "d1bfd27d-31ae-47dd-9521-d6a2560d6666",
   "metadata": {},
   "source": [
    "## Artículos de investigación"
   ]
  },
  {
   "cell_type": "markdown",
   "id": "ef8f46d1-06d8-403f-9124-37a430888cf8",
   "metadata": {},
   "source": [
    "#### Artículo 1"
   ]
  },
  {
   "cell_type": "code",
   "execution_count": 82,
   "id": "5f85a7fb-c65b-4fdd-811c-90aad86b5eea",
   "metadata": {},
   "outputs": [],
   "source": [
    "# Coloca en este espacio el análisis del artículo 1"
   ]
  },
  {
   "cell_type": "markdown",
   "id": "6d8d4821-bb0f-4bc7-abe0-00984ef5e673",
   "metadata": {},
   "source": [
    "#### Artículo 2"
   ]
  },
  {
   "cell_type": "code",
   "execution_count": 83,
   "id": "999b016d-7cc2-401b-b57c-35475edec3a9",
   "metadata": {},
   "outputs": [],
   "source": [
    "# Coloca en este espacio el análisis del artículo 2"
   ]
  }
 ],
 "metadata": {
  "kernelspec": {
   "display_name": "env_anomalias",
   "language": "python",
   "name": "python3"
  },
  "language_info": {
   "codemirror_mode": {
    "name": "ipython",
    "version": 3
   },
   "file_extension": ".py",
   "mimetype": "text/x-python",
   "name": "python",
   "nbconvert_exporter": "python",
   "pygments_lexer": "ipython3",
   "version": "3.10.12"
  }
 },
 "nbformat": 4,
 "nbformat_minor": 5
}
